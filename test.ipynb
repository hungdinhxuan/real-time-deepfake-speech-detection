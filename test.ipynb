{
 "cells": [
  {
   "cell_type": "code",
   "execution_count": 7,
   "metadata": {},
   "outputs": [
    {
     "name": "stdout",
     "output_type": "stream",
     "text": [
      "tensor([-1.1258, -1.1524, -0.2506,  ..., -1.4126,  1.3135,  1.0356])\n"
     ]
    },
    {
     "data": {
      "text/plain": [
       "tensor(True)"
      ]
     },
     "execution_count": 7,
     "metadata": {},
     "output_type": "execute_result"
    }
   ],
   "source": [
    "import torch\n",
    "\n",
    "torch.manual_seed(0)\n",
    "\n",
    "x = torch.randn(24000)\n",
    "print(x)\n",
    "duration = 16000\n",
    "\n",
    "def code1(x, duration):\n",
    "    x_len = len(x)\n",
    "    tmp = [x for _ in range(0, (duration // x_len))]\n",
    "\n",
    "    residue = duration % x_len\n",
    "    if residue > 0:\n",
    "        tmp.append(x[0:residue])\n",
    "\n",
    "    x = torch.cat(tmp, dim=0)\n",
    "    return x\n",
    "\n",
    "def code2(x, duration):\n",
    "    tmp = [x] * (duration // x_len)\n",
    "\n",
    "    residue = duration % x_len\n",
    "    if residue > 0:\n",
    "        tmp.append(x[:residue])\n",
    "\n",
    "    x = torch.cat([t if isinstance(t, torch.Tensor)\n",
    "                else torch.from_numpy(t) for t in tmp]).float()\n",
    "    return x\n",
    "\n",
    "\n",
    "torch.all(code1(x, duration).eq(code2(x, duration)))\n"
   ]
  },
  {
   "cell_type": "code",
   "execution_count": null,
   "metadata": {},
   "outputs": [],
   "source": []
  }
 ],
 "metadata": {
  "kernelspec": {
   "display_name": "rawformer",
   "language": "python",
   "name": "python3"
  },
  "language_info": {
   "codemirror_mode": {
    "name": "ipython",
    "version": 3
   },
   "file_extension": ".py",
   "mimetype": "text/x-python",
   "name": "python",
   "nbconvert_exporter": "python",
   "pygments_lexer": "ipython3",
   "version": "3.8.-1"
  }
 },
 "nbformat": 4,
 "nbformat_minor": 2
}
